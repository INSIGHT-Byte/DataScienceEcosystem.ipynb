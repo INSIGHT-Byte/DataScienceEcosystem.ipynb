{
 "cells": [
  {
   "cell_type": "markdown",
   "id": "92c591c8-c671-46fb-a9fe-0c7549961f36",
   "metadata": {},
   "source": [
    "# Data Science Tools and Ecosystem #"
   ]
  },
  {
   "cell_type": "markdown",
   "id": "ffc8874c-63ee-42bf-a609-bae08161b12f",
   "metadata": {},
   "source": [
    "In this notebook, Data Science Tools and Ecosystem are summarized."
   ]
  },
  {
   "cell_type": "markdown",
   "id": "fc4adec4-5e4c-42ca-9068-82669e83527e",
   "metadata": {},
   "source": [
    "**Objectives:**\n",
    "unordered list"
   ]
  },
  {
   "cell_type": "markdown",
   "id": "fca303e9-a703-41a7-9a00-e4ebe66455cb",
   "metadata": {},
   "source": [
    " - show popular langauages used \n",
    " - show commonly used libraries\n",
    " - show a table of data science tools"
   ]
  },
  {
   "cell_type": "markdown",
   "id": "5fdd41df-de56-4946-bf41-b10666350087",
   "metadata": {},
   "source": [
    "Some of the popular languages that Data Scientists use are:\n",
    "    \n",
    "    1. Python\n",
    "    2. SQL\n",
    "    3. R"
   ]
  },
  {
   "cell_type": "markdown",
   "id": "2bb75f33-6d37-4543-b6f0-16f7b449b2da",
   "metadata": {},
   "source": [
    "Some of the commonly used libraries used by Data Scientists include:\n",
    "    \n",
    "    1. Pandas\n",
    "    2. Tensorflow\n",
    "    3. NumPy"
   ]
  },
  {
   "cell_type": "markdown",
   "id": "9d184707-334e-4818-a3f0-67037f2f1542",
   "metadata": {},
   "source": [
    "| Data Science Tools|\n",
    "| ----------- |\n",
    "| Pandas |\n",
    "|Spark |\n",
    "|Tensorflow |"
   ]
  },
  {
   "cell_type": "markdown",
   "id": "afc62f74-cdf1-49c3-b2f3-3ad3bea89701",
   "metadata": {},
   "source": [
    "### Below are a few examples of evaluating arithmetic expressions in Python ###"
   ]
  },
  {
   "cell_type": "markdown",
   "id": "d43d0225-2073-495b-b0ad-43031cf3dede",
   "metadata": {},
   "source": [
    "This a simple arithmetic expression to mutiply then add integers"
   ]
  },
  {
   "cell_type": "code",
   "execution_count": 6,
   "id": "9254f5de-9988-410b-91d0-7ff4baddc8fc",
   "metadata": {},
   "outputs": [
    {
     "data": {
      "text/plain": [
       "17"
      ]
     },
     "execution_count": 6,
     "metadata": {},
     "output_type": "execute_result"
    }
   ],
   "source": [
    "(3*4)+5"
   ]
  },
  {
   "cell_type": "markdown",
   "id": "c3201641-7256-4f18-917d-d20c96157d81",
   "metadata": {},
   "source": [
    "his will convert 200 minutes to hours by diving by 60"
   ]
  },
  {
   "cell_type": "code",
   "execution_count": 40,
   "id": "18b00800-807e-40f0-8604-86e6c6bc4b0d",
   "metadata": {},
   "outputs": [
    {
     "data": {
      "text/plain": [
       "3.3333333333333335"
      ]
     },
     "execution_count": 40,
     "metadata": {},
     "output_type": "execute_result"
    }
   ],
   "source": [
    "(200/60)"
   ]
  },
  {
   "cell_type": "markdown",
   "id": "9f36f47e-069b-4803-975d-36c008eba9ea",
   "metadata": {},
   "source": [
    " ## Author ##"
   ]
  },
  {
   "cell_type": "markdown",
   "id": "3f566558-c1ba-4ca4-b570-64691ed3d874",
   "metadata": {},
   "source": [
    "Daniel"
   ]
  },
  {
   "cell_type": "code",
   "execution_count": null,
   "id": "024d14b9-6169-4b6a-98be-afa643b07229",
   "metadata": {},
   "outputs": [],
   "source": []
  }
 ],
 "metadata": {
  "kernelspec": {
   "display_name": "Python",
   "language": "python",
   "name": "conda-env-python-py"
  },
  "language_info": {
   "codemirror_mode": {
    "name": "ipython",
    "version": 3
   },
   "file_extension": ".py",
   "mimetype": "text/x-python",
   "name": "python",
   "nbconvert_exporter": "python",
   "pygments_lexer": "ipython3",
   "version": "3.7.12"
  }
 },
 "nbformat": 4,
 "nbformat_minor": 5
}
